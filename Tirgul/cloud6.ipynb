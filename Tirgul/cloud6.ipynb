{
 "cells": [
  {
   "cell_type": "code",
   "execution_count": null,
   "metadata": {
    "colab": {
     "base_uri": "https://localhost:8080/"
    },
    "executionInfo": {
     "elapsed": 6053,
     "status": "ok",
     "timestamp": 1746360165443,
     "user": {
      "displayName": "Eden Moshe",
      "userId": "13956209217321413290"
     },
     "user_tz": -180
    },
    "id": "voQt1cu0ce-h",
    "outputId": "df6559c9-7134-478a-e1e9-8a91af17b773"
   },
   "outputs": [
    {
     "name": "stdout",
     "output_type": "stream",
     "text": [
      "Requirement already satisfied: requests in /usr/local/lib/python3.11/dist-packages (2.32.3)\n",
      "Requirement already satisfied: beautifulsoup4 in /usr/local/lib/python3.11/dist-packages (4.13.4)\n",
      "Requirement already satisfied: charset-normalizer<4,>=2 in /usr/local/lib/python3.11/dist-packages (from requests) (3.4.1)\n",
      "Requirement already satisfied: idna<4,>=2.5 in /usr/local/lib/python3.11/dist-packages (from requests) (3.10)\n",
      "Requirement already satisfied: urllib3<3,>=1.21.1 in /usr/local/lib/python3.11/dist-packages (from requests) (2.4.0)\n",
      "Requirement already satisfied: certifi>=2017.4.17 in /usr/local/lib/python3.11/dist-packages (from requests) (2025.4.26)\n",
      "Requirement already satisfied: soupsieve>1.2 in /usr/local/lib/python3.11/dist-packages (from beautifulsoup4) (2.7)\n",
      "Requirement already satisfied: typing-extensions>=4.0.0 in /usr/local/lib/python3.11/dist-packages (from beautifulsoup4) (4.13.2)\n",
      "Collecting firebase\n",
      "  Downloading firebase-4.0.1-py3-none-any.whl.metadata (6.5 kB)\n",
      "Requirement already satisfied: requests in /usr/local/lib/python3.11/dist-packages (from firebase) (2.32.3)\n",
      "Requirement already satisfied: charset-normalizer<4,>=2 in /usr/local/lib/python3.11/dist-packages (from requests->firebase) (3.4.1)\n",
      "Requirement already satisfied: idna<4,>=2.5 in /usr/local/lib/python3.11/dist-packages (from requests->firebase) (3.10)\n",
      "Requirement already satisfied: urllib3<3,>=1.21.1 in /usr/local/lib/python3.11/dist-packages (from requests->firebase) (2.4.0)\n",
      "Requirement already satisfied: certifi>=2017.4.17 in /usr/local/lib/python3.11/dist-packages (from requests->firebase) (2025.4.26)\n",
      "Downloading firebase-4.0.1-py3-none-any.whl (12 kB)\n",
      "Installing collected packages: firebase\n",
      "Successfully installed firebase-4.0.1\n"
     ]
    }
   ],
   "source": [
    "\"\"\"\n",
    "Web Content Extraction Module\n",
    "This module provides functionality for fetching and parsing web page content.\n",
    "\"\"\"\n",
    "\n",
    "!pip install requests beautifulsoup4\n",
    "!pip install firebase\n",
    "import requests\n",
    "from bs4 import BeautifulSoup\n",
    "\n",
    "def retrieve_webpage_content(target_url):\n",
    "    \"\"\"\n",
    "    Fetches and parses content from a specified URL.\n",
    "    \n",
    "    Args:\n",
    "        target_url (str): The URL to fetch content from\n",
    "        \n",
    "    Returns:\n",
    "        BeautifulSoup: Parsed HTML content or None if fetch fails\n",
    "    \"\"\"\n",
    "    http_response = requests.get(target_url)\n",
    "    if http_response.status_code == 200:\n",
    "        parsed_content = BeautifulSoup(http_response.text, 'html.parser')\n",
    "        return parsed_content\n",
    "    else:\n",
    "        return None\n"
   ]
  },
  {
   "cell_type": "code",
   "execution_count": null,
   "metadata": {
    "id": "z_oG5HYzc0dm"
   },
   "outputs": [],
   "source": [
    "\"\"\"\n",
    "Word Frequency Analysis Module\n",
    "This module handles the creation of word frequency indices from text content.\n",
    "\"\"\"\n",
    "\n",
    "import re\n",
    "\n",
    "def create_word_frequency_index(parsed_content):\n",
    "    \"\"\"\n",
    "    Creates a frequency index of words from parsed content.\n",
    "    \n",
    "    Args:\n",
    "        parsed_content (BeautifulSoup): Parsed HTML content\n",
    "        \n",
    "    Returns:\n",
    "        dict: Dictionary containing word frequencies\n",
    "    \"\"\"\n",
    "    frequency_index = {}\n",
    "    extracted_words = re.findall(r'\\w+', parsed_content.get_text())\n",
    "    \n",
    "    for word in extracted_words:\n",
    "        normalized_word = word.lower()\n",
    "        frequency_index[normalized_word] = frequency_index.get(normalized_word, 0) + 1\n",
    "    \n",
    "    return frequency_index"
   ]
  },
  {
   "cell_type": "code",
   "execution_count": null,
   "metadata": {
    "id": "6Qb9vL0rdPyU"
   },
   "outputs": [],
   "source": [
    "def filter_common_words(word_index):\n",
    "    \"\"\"\n",
    "    Removes common stop words from the word frequency index.\n",
    "    \n",
    "    Args:\n",
    "        word_index (dict): Dictionary of word frequencies\n",
    "        \n",
    "    Returns:\n",
    "        dict: Filtered dictionary without stop words\n",
    "    \"\"\"\n",
    "    common_words = {'a', 'an', 'the', 'and', 'or', 'in', 'on', 'at'}\n",
    "    \n",
    "    for common_word in common_words:\n",
    "        if common_word in word_index:\n",
    "            del word_index[common_word]\n",
    "            \n",
    "    return word_index"
   ]
  },
  {
   "cell_type": "code",
   "execution_count": null,
   "metadata": {
    "id": "hKG3m2TOdYTZ"
   },
   "outputs": [],
   "source": [
    "\"\"\"\n",
    "Word Stemming Module\n",
    "Applies stemming to normalize words to their root form.\n",
    "\"\"\"\n",
    "\n",
    "from nltk.stem import PorterStemmer\n",
    "\n",
    "def normalize_word_forms(word_index):\n",
    "    \"\"\"\n",
    "    Applies stemming to words in the frequency index.\n",
    "    \n",
    "    Args:\n",
    "        word_index (dict): Dictionary of word frequencies\n",
    "        \n",
    "    Returns:\n",
    "        dict: Dictionary with stemmed words as keys\n",
    "    \"\"\"\n",
    "    word_stemmer = PorterStemmer()\n",
    "    normalized_index = {}\n",
    "    \n",
    "    for word, frequency in word_index.items():\n",
    "        root_form = word_stemmer.stem(word)\n",
    "        normalized_index[root_form] = normalized_index.get(root_form, 0) + frequency\n",
    "        \n",
    "    return normalized_index"
   ]
  },
  {
   "cell_type": "code",
   "execution_count": null,
   "metadata": {
    "id": "qYFBlAu5dpQS"
   },
   "outputs": [],
   "source": [
    "def execute_word_search(search_query, word_index):\n",
    "    \"\"\"\n",
    "    Searches for query terms in the word frequency index.\n",
    "    \n",
    "    Args:\n",
    "        search_query (str): The search query string\n",
    "        word_index (dict): Dictionary of word frequencies\n",
    "        \n",
    "    Returns:\n",
    "        dict: Dictionary containing matches and their frequencies\n",
    "    \"\"\"\n",
    "    query_terms = re.findall(r'\\w+', search_query.lower())\n",
    "    search_results = {}\n",
    "    \n",
    "    for term in query_terms:\n",
    "        if term in word_index:\n",
    "            search_results[term] = word_index[term]\n",
    "            \n",
    "    return search_results"
   ]
  },
  {
   "cell_type": "code",
   "execution_count": null,
   "metadata": {
    "id": "UJ7bA3_bd302"
   },
   "outputs": [],
   "source": [
    "def webpage_content_search(target_url, search_query):\n",
    "    \"\"\"\n",
    "    Main search engine function that processes a webpage and searches for query terms.\n",
    "    \n",
    "    Args:\n",
    "        target_url (str): URL of the webpage to search\n",
    "        search_query (str): Search query string\n",
    "        \n",
    "    Returns:\n",
    "        dict: Search results with word frequencies or None if page fetch fails\n",
    "    \"\"\"\n",
    "    webpage_content = retrieve_webpage_content(target_url)\n",
    "    if webpage_content is None:\n",
    "        return None\n",
    "        \n",
    "    word_index = create_word_frequency_index(webpage_content)\n",
    "    word_index = filter_common_words(word_index)\n",
    "    word_index = normalize_word_forms(word_index)\n",
    "    search_results = execute_word_search(search_query, word_index)\n",
    "    \n",
    "    return search_results"
   ]
  },
  {
   "cell_type": "code",
   "execution_count": null,
   "metadata": {
    "colab": {
     "base_uri": "https://localhost:8080/"
    },
    "executionInfo": {
     "elapsed": 350,
     "status": "ok",
     "timestamp": 1746360165945,
     "user": {
      "displayName": "Eden Moshe",
      "userId": "13956209217321413290"
     },
     "user_tz": -180
    },
    "id": "LohYx02oDi88",
    "outputId": "dc4fce8b-7090-41b1-eed8-5b341f4efdbe"
   },
   "outputs": [
    {
     "name": "stdout",
     "output_type": "stream",
     "text": [
      "{'ariana': 6}\n"
     ]
    }
   ],
   "source": [
    "url = 'https://www.arianagrande.com/'\n",
    "query = 'Ariana'\n",
    "results = search_engine(url, query)\n",
    "print(results)"
   ]
  },
  {
   "cell_type": "code",
   "execution_count": null,
   "metadata": {
    "colab": {
     "base_uri": "https://localhost:8080/"
    },
    "executionInfo": {
     "elapsed": 3134,
     "status": "ok",
     "timestamp": 1746360169082,
     "user": {
      "displayName": "Eden Moshe",
      "userId": "13956209217321413290"
     },
     "user_tz": -180
    },
    "id": "7cm584qoeFlz",
    "outputId": "f43440a1-2231-4a2e-874b-40916337600b"
   },
   "outputs": [
    {
     "name": "stdout",
     "output_type": "stream",
     "text": [
      "{'bird': 574}\n"
     ]
    }
   ],
   "source": [
    "url = 'https://en.wikipedia.org/wiki/Bird'\n",
    "query = 'bird'\n",
    "results = search_engine(url, query)\n",
    "print(results)"
   ]
  },
  {
   "cell_type": "code",
   "execution_count": null,
   "metadata": {
    "colab": {
     "base_uri": "https://localhost:8080/"
    },
    "executionInfo": {
     "elapsed": 3866,
     "status": "ok",
     "timestamp": 1746360172947,
     "user": {
      "displayName": "Eden Moshe",
      "userId": "13956209217321413290"
     },
     "user_tz": -180
    },
    "id": "8E3z42zqeZSQ",
    "outputId": "1228a571-41b4-4325-84cc-b3150906bc82"
   },
   "outputs": [
    {
     "name": "stdout",
     "output_type": "stream",
     "text": [
      "{}\n"
     ]
    }
   ],
   "source": [
    "url = 'https://en.wikipedia.org/wiki/Bird'\n",
    "query = 'birds wings'\n",
    "results = search_engine(url, query)\n",
    "print(results)"
   ]
  },
  {
   "cell_type": "code",
   "execution_count": null,
   "metadata": {
    "id": "lK_fHt8Aebwj"
   },
   "outputs": [],
   "source": [
    "def search(query, index):\n",
    "  stemmer = PorterStemmer()\n",
    "  query_words = re.findall(r'\\w+', query.lower())\n",
    "  results = {}\n",
    "  for word in query_words:\n",
    "    word = stemmer.stem(word)\n",
    "    if word in index:\n",
    "      results[word] = index[word]\n",
    "  return results"
   ]
  },
  {
   "cell_type": "code",
   "execution_count": null,
   "metadata": {
    "colab": {
     "base_uri": "https://localhost:8080/"
    },
    "executionInfo": {
     "elapsed": 2258,
     "status": "ok",
     "timestamp": 1746360175237,
     "user": {
      "displayName": "Eden Moshe",
      "userId": "13956209217321413290"
     },
     "user_tz": -180
    },
    "id": "wUBSB66JfHQM",
    "outputId": "a55a6321-3024-4488-84da-716ea434174f"
   },
   "outputs": [
    {
     "name": "stdout",
     "output_type": "stream",
     "text": [
      "{'bird': 574, 'wing': 25}\n"
     ]
    }
   ],
   "source": [
    "url = 'https://en.wikipedia.org/wiki/Bird'\n",
    "query = 'birds wings'\n",
    "results = search_engine(url, query)\n",
    "print(results)"
   ]
  },
  {
   "cell_type": "code",
   "execution_count": null,
   "metadata": {
    "id": "izmK0W0TfT2s"
   },
   "outputs": [],
   "source": [
    "rank=1\n",
    "for word, count in results.items():\n",
    " rank = rank*1/count\n",
    "rank = 1-rank\n"
   ]
  },
  {
   "cell_type": "code",
   "execution_count": null,
   "metadata": {
    "colab": {
     "base_uri": "https://localhost:8080/"
    },
    "executionInfo": {
     "elapsed": 307,
     "status": "ok",
     "timestamp": 1746360175549,
     "user": {
      "displayName": "Eden Moshe",
      "userId": "13956209217321413290"
     },
     "user_tz": -180
    },
    "id": "Lx8Z2hXtEdF9",
    "outputId": "7f67cf71-f262-40cd-e8e8-072d87dba11f"
   },
   "outputs": [
    {
     "name": "stdout",
     "output_type": "stream",
     "text": [
      "{'shop': 1, 'buy': 6, 'ariana': 6, 'music': 12, 'grand': 4, 'video': 3, 'etern': 4, 'sunshin': 4, 'brighter': 6, 'day': 6}\n"
     ]
    }
   ],
   "source": [
    "url = 'https://www.arianagrande.com/'\n",
    "query = 'shop buy ariana music grande video eternal sunshine brighter days'\n",
    "results = search_engine(url, query)\n",
    "print(results)"
   ]
  },
  {
   "cell_type": "code",
   "execution_count": null,
   "metadata": {
    "colab": {
     "base_uri": "https://localhost:8080/",
     "height": 550
    },
    "executionInfo": {
     "elapsed": 551,
     "status": "ok",
     "timestamp": 1746360176104,
     "user": {
      "displayName": "Eden Moshe",
      "userId": "13956209217321413290"
     },
     "user_tz": -180
    },
    "id": "UiBrDau7KYQg",
    "outputId": "5793b186-c004-4037-adbc-186bd72c48a0"
   },
   "outputs": [
    {
     "name": "stdout",
     "output_type": "stream",
     "text": [
      "{'shop': 1, 'buy': 6, 'ariana': 6, 'music': 12, 'grand': 4, 'video': 3, 'etern': 4, 'sunshin': 4, 'brighter': 6, 'day': 6}\n",
      "0.9999996651020233\n"
     ]
    },
    {
     "data": {
      "image/png": "[encoded data removed]",
      "text/plain": [
       "<Figure size 640x480 with 1 Axes>"
      ]
     },
     "metadata": {},
     "output_type": "display_data"
    }
   ],
   "source": [
    "from firebase import firebase\n",
    "queries = 'shop buy ariana music grande video eternal sunshine brighter days'\n",
    "db_link = \"https://cloud7-38a0b-default-rtdb.firebaseio.com/\"\n",
    "FBconn = firebase.FirebaseApplication(db_link,None)\n",
    "results = search_engine(url, queries)\n",
    "print(results)\n",
    "\n",
    "#add the results dictionary to the FB database\n",
    "FBconn.put('/','results',results)\n",
    "rank=1\n",
    "for word, count in results.items():\n",
    "  rank = rank*1/count\n",
    "rank = 1-rank\n",
    "print(rank)\n",
    "\n",
    "# create a bar chart showing the number of appearences of each of the 10 words with set spacing between the words to make it readable\n",
    "import matplotlib.pyplot as plt\n",
    "words = list(results.keys())\n",
    "counts = list(results.values())\n",
    "plt.bar(words, counts)\n",
    "plt.xticks(rotation=90)\n",
    "plt.xlabel('Words')\n",
    "plt.ylabel('Counts')\n",
    "plt.title('Results')\n",
    "plt.show()"
   ]
  }
 ],
 "metadata": {
  "colab": {
   "provenance": [
    {
     "file_id": "1cg9iqX0d2dRRBVS55jdnwPY1njrHe_In",
     "timestamp": 1746360345136
    }
   ]
  },
  "kernelspec": {
   "display_name": "Python 3",
   "name": "python3"
  },
  "language_info": {
   "name": "python"
  }
 },
 "nbformat": 4,
 "nbformat_minor": 0
}
