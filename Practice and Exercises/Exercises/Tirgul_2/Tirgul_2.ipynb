{
  "nbformat": 4,
  "nbformat_minor": 0,
  "metadata": {
    "colab": {
      "provenance": [],
      "authorship_tag": "ABX9TyPG1bnrdBUC5f6UdBZaKOtu",
      "include_colab_link": true
    },
    "kernelspec": {
      "name": "python3",
      "display_name": "Python 3"
    },
    "language_info": {
      "name": "python"
    }
  },
  "cells": [
    {
      "cell_type": "markdown",
      "metadata": {
        "id": "view-in-github",
        "colab_type": "text"
      },
      "source": [
        "<a href=\"https://colab.research.google.com/github/KoganTheDev/cloud-computing-project/blob/main/Practice%20and%20Exercises/Exercises/Tirgul_2/Tirgul_2.ipynb\" target=\"_parent\"><img src=\"https://colab.research.google.com/assets/colab-badge.svg\" alt=\"Open In Colab\"/></a>"
      ]
    },
    {
      "cell_type": "code",
      "execution_count": 1,
      "metadata": {
        "colab": {
          "base_uri": "https://localhost:8080/"
        },
        "id": "y4ljcUx0cd-m",
        "outputId": "3c5e3ffa-57b3-4633-ae92-dbae27699c70"
      },
      "outputs": [
        {
          "output_type": "stream",
          "name": "stdout",
          "text": [
            "Dictionary:  {\"name\": \"John\", \"age\": 30}\n",
            "List:        [\"apple\", \"bananas\"]\n",
            "Tuple:       [\"apple\", \"bananas\"]\n",
            "String:      \"hello\"\n",
            "Integer:     42\n",
            "Float:       31.76\n",
            "True:        true\n",
            "False:       false\n",
            "None:        null\n"
          ]
        }
      ],
      "source": [
        "import json\n",
        "'''\n",
        "dump(): Encoded string writing on file\n",
        "load(): Decode while JSON file read.\n",
        "dumps(): Encoding to JSON objects.\n",
        "loads(): Decode the JSON string\n",
        "\n",
        "dump: python -> JSON\n",
        "load: JSON -> python\n",
        "'''\n",
        "print(\"Dictionary: \", json.dumps({\"name\": \"John\", \"age\": 30}))\n",
        "print(\"List:       \", json.dumps([\"apple\", \"bananas\"]))\n",
        "print(\"Tuple:      \", json.dumps((\"apple\", \"bananas\")))\n",
        "print(\"String:     \", json.dumps(\"hello\"))\n",
        "print(\"Integer:    \", json.dumps(42))\n",
        "print(\"Float:      \", json.dumps(31.76))\n",
        "print(\"True:       \", json.dumps(True))\n",
        "print(\"False:      \", json.dumps(False))\n",
        "print(\"None:       \", json.dumps(None))"
      ]
    },
    {
      "cell_type": "code",
      "source": [
        "json_data = '{\"acronym\": \"BLD\", \"name\": \"Boulder Colorado\", \\\n",
        "              \"latitude\": 40.00, \"longitude\": -105.25}'\n",
        "python_obj = json.loads(json_data)\n",
        "print(\"Name:     \", python_obj[\"name\"])\n",
        "print(\"Acronym:  \", python_obj[\"acronym\"])\n",
        "print(\"Latitude: \", python_obj[\"latitude\"])\n",
        "print(\"Latitude: \", python_obj[\"longitude\"])\n",
        "\n",
        "print()\n",
        "print(json.dumps(python_obj, sort_keys=True, indent=4))\n"
      ],
      "metadata": {
        "colab": {
          "base_uri": "https://localhost:8080/"
        },
        "id": "7bDkou7vhYpZ",
        "outputId": "84dd26bc-da9b-4cbb-ccf2-48e62dc02336"
      },
      "execution_count": 2,
      "outputs": [
        {
          "output_type": "stream",
          "name": "stdout",
          "text": [
            "Name:      Boulder Colorado\n",
            "Acronym:   BLD\n",
            "Latitude:  40.0\n",
            "Latitude:  -105.25\n",
            "\n",
            "{\n",
            "    \"acronym\": \"BLD\",\n",
            "    \"latitude\": 40.0,\n",
            "    \"longitude\": -105.25,\n",
            "    \"name\": \"Boulder Colorado\"\n",
            "}\n"
          ]
        }
      ]
    },
    {
      "cell_type": "code",
      "source": [
        "array = '{\"drinks\": [\"coffee\", \"tea\", \"water\"]}'\n",
        "data = json.loads(array)\n",
        "\n",
        "print(json.dumps(data, sort_keys=True, indent=4))\n",
        "print()\n",
        "for element in data[\"drinks\"]:\n",
        "    print(element)"
      ],
      "metadata": {
        "colab": {
          "base_uri": "https://localhost:8080/"
        },
        "id": "PZnvVi4bhyBi",
        "outputId": "06a6548b-b9fa-4cf0-909e-0f5a2d61ce52"
      },
      "execution_count": 3,
      "outputs": [
        {
          "output_type": "stream",
          "name": "stdout",
          "text": [
            "{\n",
            "    \"drinks\": [\n",
            "        \"coffee\",\n",
            "        \"tea\",\n",
            "        \"water\"\n",
            "    ]\n",
            "}\n",
            "\n",
            "coffee\n",
            "tea\n",
            "water\n"
          ]
        }
      ]
    },
    {
      "cell_type": "code",
      "source": [
        "json_string = \"\"\"\n",
        "{\n",
        "    \"researcher\": {\n",
        "        \"name\": \"Ford Prefect\",\n",
        "        \"species\": \"Betelgeusian\",\n",
        "        \"relatives\": [\n",
        "            {\n",
        "                \"name\": \"Zaphod Beeblebrox\",\n",
        "                \"species\": \"Betelgeusian\"\n",
        "            }\n",
        "        ]\n",
        "    }\n",
        "}\n",
        "\"\"\"\n",
        "data = json.loads(json_string)\n",
        "print(data)\n",
        "print('\\n')\n",
        "print(json.dumps(data, sort_keys=True, indent=4))"
      ],
      "metadata": {
        "colab": {
          "base_uri": "https://localhost:8080/"
        },
        "id": "ILRk_ZE6jbLV",
        "outputId": "3f3f1c33-b1fa-4840-f25f-d43e332ad97e"
      },
      "execution_count": 4,
      "outputs": [
        {
          "output_type": "stream",
          "name": "stdout",
          "text": [
            "{'researcher': {'name': 'Ford Prefect', 'species': 'Betelgeusian', 'relatives': [{'name': 'Zaphod Beeblebrox', 'species': 'Betelgeusian'}]}}\n",
            "\n",
            "\n",
            "{\n",
            "    \"researcher\": {\n",
            "        \"name\": \"Ford Prefect\",\n",
            "        \"relatives\": [\n",
            "            {\n",
            "                \"name\": \"Zaphod Beeblebrox\",\n",
            "                \"species\": \"Betelgeusian\"\n",
            "            }\n",
            "        ],\n",
            "        \"species\": \"Betelgeusian\"\n",
            "    }\n",
            "}\n"
          ]
        }
      ]
    },
    {
      "cell_type": "code",
      "source": [
        "from google.colab import drive\n",
        "drive.mount('/content/drive') # Generate files in this location\n",
        "\n",
        "x = {\n",
        "  \"name\": \"John\",\n",
        "  \"age\": 30,\n",
        "  \"married\": True,\n",
        "  \"divorced\": False,\n",
        "  \"children\": (\"Ann\",\"Billy\"),\n",
        "  \"pets\": None,\n",
        "  \"cars\": [\n",
        "    {\"model\": \"BMW 230\", \"mpg\": 27.5},\n",
        "    {\"model\": \"Ford Edge\", \"mpg\": 24.1}\n",
        "  ]\n",
        "}\n",
        "\n",
        "with open('/content/drive/My Drive/s2.json', \"w\") as fid:\n",
        "     json.dump(x, fid)"
      ],
      "metadata": {
        "colab": {
          "base_uri": "https://localhost:8080/"
        },
        "id": "qeWl01cQksBW",
        "outputId": "9d18d2d9-6f58-488f-c5ec-171e73e53d7c"
      },
      "execution_count": 5,
      "outputs": [
        {
          "output_type": "stream",
          "name": "stdout",
          "text": [
            "Drive already mounted at /content/drive; to attempt to forcibly remount, call drive.mount(\"/content/drive\", force_remount=True).\n"
          ]
        }
      ]
    },
    {
      "cell_type": "code",
      "source": [
        "import json\n",
        "from google.colab import drive\n",
        "drive.mount('/content/drive')\n",
        "\n",
        "x = {\n",
        "  \"name\": \"John\",\n",
        "  \"age\": 30,\n",
        "  \"married\": True,\n",
        "  \"divorced\": False,\n",
        "  \"children\": (\"Ann\",\"Billy\"),\n",
        "  \"pets\": None,\n",
        "  \"cars\": [\n",
        "    {\"model\": \"BMW 230\", \"mpg\": 27.5},\n",
        "    {\"model\": \"Ford Edge\", \"mpg\": 24.1}\n",
        "  ]\n",
        "}\n",
        "\n",
        "with open('/content/drive/My Drive/s1.json', \"w\") as fid:\n",
        "     json.dump(x, fid)"
      ],
      "metadata": {
        "colab": {
          "base_uri": "https://localhost:8080/"
        },
        "id": "UMy_sFXEmf5w",
        "outputId": "44a021a5-d033-4d23-9d57-408d8ebc1623"
      },
      "execution_count": 6,
      "outputs": [
        {
          "output_type": "stream",
          "name": "stdout",
          "text": [
            "Drive already mounted at /content/drive; to attempt to forcibly remount, call drive.mount(\"/content/drive\", force_remount=True).\n"
          ]
        }
      ]
    },
    {
      "cell_type": "code",
      "source": [
        "%%writefile apod.json\n",
        "{\n",
        "    \"media_type\": \"image\",\n",
        "    \"copyright\": \"Yin Hao\",\n",
        "    \"date\": \"2018-10-30\",\n",
        "    \"url\": \"https://apod.nasa.gov/apod/image/1810/Orionids_Hao_960.jpg\",\n",
        "    \"explanation\": \"Meteors have been shooting out from the constellation of Orion. This was expected, as October is the time of year for the Orionids Meteor Shower.  Pictured here, over two dozen meteors were caught in successively added exposures last October over Wulan Hada volcano in Inner Mongolia, China. The featured image shows multiple meteor streaks that can all be connected to a single small region on the sky called the radiant, here visible just above and to the left of the belt of Orion, The Orionids meteors started as sand sized bits expelled from Comet Halley during one of its trips to the inner Solar System. Comet Halley is actually responsible for two known meteor showers, the other known as the Eta Aquarids and visible every May. An Orionids image featured on APOD one year ago today from the same location shows the same car. Next month, the Leonids Meteor Shower from Comet Tempel-Tuttle should also result in some bright meteor streaks. Follow APOD on: Facebook, Instagram, Reddit, or Twitter\",\n",
        "    \"hdurl\": \"https://apod.nasa.gov/apod/image/1810/Orionids_Hao_2324.jpg\",\n",
        "    \"title\": \"Orionids Meteors over Inner Mongolia\",\n",
        "    \"service_version\": \"v1\"\n",
        "}\n"
      ],
      "metadata": {
        "colab": {
          "base_uri": "https://localhost:8080/"
        },
        "id": "Ew9bZmd8qsLs",
        "outputId": "afb462dd-44e7-4271-f484-e159a80dac4c"
      },
      "execution_count": 7,
      "outputs": [
        {
          "output_type": "stream",
          "name": "stdout",
          "text": [
            "Overwriting apod.json\n"
          ]
        }
      ]
    },
    {
      "cell_type": "code",
      "source": [
        "# Read the file\n",
        "with open(\"apod.json\", \"r\") as f:\n",
        "    json_text = f.read()\n",
        "# Decode the JSON string into a Python dictionary.\n",
        "apod_dict = json.loads(json_text)\n",
        "print(apod_dict['explanation'])\n",
        "# Encode the Python dictionary into a JSON string.\n",
        "new_json_string = json.dumps(apod_dict, indent=6)\n",
        "print(new_json_string)\n",
        "new_json_string = json.dumps(apod_dict, indent=6, sort_keys=True)\n",
        "print(new_json_string)"
      ],
      "metadata": {
        "colab": {
          "base_uri": "https://localhost:8080/"
        },
        "id": "VEYo0FEdsOeQ",
        "outputId": "9b83403c-c904-4ac4-a5ca-48d867ba8b32"
      },
      "execution_count": 8,
      "outputs": [
        {
          "output_type": "stream",
          "name": "stdout",
          "text": [
            "Meteors have been shooting out from the constellation of Orion. This was expected, as October is the time of year for the Orionids Meteor Shower.  Pictured here, over two dozen meteors were caught in successively added exposures last October over Wulan Hada volcano in Inner Mongolia, China. The featured image shows multiple meteor streaks that can all be connected to a single small region on the sky called the radiant, here visible just above and to the left of the belt of Orion, The Orionids meteors started as sand sized bits expelled from Comet Halley during one of its trips to the inner Solar System. Comet Halley is actually responsible for two known meteor showers, the other known as the Eta Aquarids and visible every May. An Orionids image featured on APOD one year ago today from the same location shows the same car. Next month, the Leonids Meteor Shower from Comet Tempel-Tuttle should also result in some bright meteor streaks. Follow APOD on: Facebook, Instagram, Reddit, or Twitter\n",
            "{\n",
            "      \"media_type\": \"image\",\n",
            "      \"copyright\": \"Yin Hao\",\n",
            "      \"date\": \"2018-10-30\",\n",
            "      \"url\": \"https://apod.nasa.gov/apod/image/1810/Orionids_Hao_960.jpg\",\n",
            "      \"explanation\": \"Meteors have been shooting out from the constellation of Orion. This was expected, as October is the time of year for the Orionids Meteor Shower.  Pictured here, over two dozen meteors were caught in successively added exposures last October over Wulan Hada volcano in Inner Mongolia, China. The featured image shows multiple meteor streaks that can all be connected to a single small region on the sky called the radiant, here visible just above and to the left of the belt of Orion, The Orionids meteors started as sand sized bits expelled from Comet Halley during one of its trips to the inner Solar System. Comet Halley is actually responsible for two known meteor showers, the other known as the Eta Aquarids and visible every May. An Orionids image featured on APOD one year ago today from the same location shows the same car. Next month, the Leonids Meteor Shower from Comet Tempel-Tuttle should also result in some bright meteor streaks. Follow APOD on: Facebook, Instagram, Reddit, or Twitter\",\n",
            "      \"hdurl\": \"https://apod.nasa.gov/apod/image/1810/Orionids_Hao_2324.jpg\",\n",
            "      \"title\": \"Orionids Meteors over Inner Mongolia\",\n",
            "      \"service_version\": \"v1\"\n",
            "}\n",
            "{\n",
            "      \"copyright\": \"Yin Hao\",\n",
            "      \"date\": \"2018-10-30\",\n",
            "      \"explanation\": \"Meteors have been shooting out from the constellation of Orion. This was expected, as October is the time of year for the Orionids Meteor Shower.  Pictured here, over two dozen meteors were caught in successively added exposures last October over Wulan Hada volcano in Inner Mongolia, China. The featured image shows multiple meteor streaks that can all be connected to a single small region on the sky called the radiant, here visible just above and to the left of the belt of Orion, The Orionids meteors started as sand sized bits expelled from Comet Halley during one of its trips to the inner Solar System. Comet Halley is actually responsible for two known meteor showers, the other known as the Eta Aquarids and visible every May. An Orionids image featured on APOD one year ago today from the same location shows the same car. Next month, the Leonids Meteor Shower from Comet Tempel-Tuttle should also result in some bright meteor streaks. Follow APOD on: Facebook, Instagram, Reddit, or Twitter\",\n",
            "      \"hdurl\": \"https://apod.nasa.gov/apod/image/1810/Orionids_Hao_2324.jpg\",\n",
            "      \"media_type\": \"image\",\n",
            "      \"service_version\": \"v1\",\n",
            "      \"title\": \"Orionids Meteors over Inner Mongolia\",\n",
            "      \"url\": \"https://apod.nasa.gov/apod/image/1810/Orionids_Hao_960.jpg\"\n",
            "}\n"
          ]
        }
      ]
    },
    {
      "cell_type": "code",
      "source": [
        "jsonData = '{\"ID\":\"123\", \"Name\": \"Hamza\"}'\n",
        "\n",
        "data = json.loads(jsonData)\n",
        "\n",
        "newData = {\"DOB\": \"22-10-2001\"}\n",
        "\n",
        "data.update(newData)\n",
        "\n",
        "print(data)"
      ],
      "metadata": {
        "colab": {
          "base_uri": "https://localhost:8080/"
        },
        "id": "2E6sEc96saOP",
        "outputId": "76e23bb8-037c-47a5-beaf-fcfefd527d46"
      },
      "execution_count": 9,
      "outputs": [
        {
          "output_type": "stream",
          "name": "stdout",
          "text": [
            "{'ID': '123', 'Name': 'Hamza', 'DOB': '22-10-2001'}\n"
          ]
        }
      ]
    }
  ]
}